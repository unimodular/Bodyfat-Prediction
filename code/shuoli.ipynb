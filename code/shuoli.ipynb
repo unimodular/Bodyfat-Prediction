{
 "cells": [
  {
   "cell_type": "code",
   "execution_count": 1236,
   "metadata": {},
   "outputs": [],
   "source": [
    "import numpy as np\n",
    "import pandas as pd\n",
    "import matplotlib.pyplot as plt\n",
    "from sklearn.preprocessing import StandardScaler,MinMaxScaler\n",
    "\n",
    "\n",
    "# from mlxtend.feature_selection import SequentialFeatureSelector \n",
    "from sklearn.linear_model import LinearRegression\n",
    "from sklearn.model_selection import train_test_split, GridSearchCV, KFold\n",
    "from sklearn.metrics import accuracy_score,mean_squared_error\n",
    "\n",
    "import matplotlib.pyplot as plt\n",
    "\n",
    "import statsmodels.api as sm\n",
    "\n",
    "import seaborn as sns\n",
    "\n",
    "from sklearn.neighbors import KNeighborsRegressor\n",
    "\n",
    "from sklearn.metrics import mean_squared_error"
   ]
  },
  {
   "cell_type": "code",
   "execution_count": 1237,
   "metadata": {},
   "outputs": [],
   "source": [
    "from sklearn.impute import KNNImputer\n",
    "from sklearn.model_selection import cross_val_score\n",
    "from sklearn.linear_model import LogisticRegression\n",
    "from sklearn.pipeline import Pipeline"
   ]
  },
  {
   "cell_type": "code",
   "execution_count": 1238,
   "metadata": {},
   "outputs": [],
   "source": [
    "warnings.simplefilter(action='ignore', category=pd.errors.SettingWithCopyWarning)"
   ]
  },
  {
   "cell_type": "code",
   "execution_count": null,
   "metadata": {},
   "outputs": [],
   "source": [
    "data = pd.read_csv(\"BodyFat.csv\")\n",
    "print(data.isnull().sum())\n",
    "data.describe()"
   ]
  },
  {
   "cell_type": "code",
   "execution_count": null,
   "metadata": {},
   "outputs": [],
   "source": [
    "\n",
    "ls = list(data.loc[:,\"BODYFAT\"])\n",
    "ls.sort()\n",
    "ls"
   ]
  },
  {
   "cell_type": "code",
   "execution_count": null,
   "metadata": {},
   "outputs": [],
   "source": [
    "df = pd.DataFrame(data)\n",
    "plt.figure(figsize=(10, 5))\n",
    "df.boxplot()\n",
    "plt.title('Boxplot of Original Data')\n",
    "plt.xticks(rotation=75)\n",
    "plt.show()\n",
    "\n"
   ]
  },
  {
   "cell_type": "markdown",
   "metadata": {},
   "source": [
    "### Remove outliers"
   ]
  },
  {
   "cell_type": "code",
   "execution_count": null,
   "metadata": {},
   "outputs": [],
   "source": [
    "filtered_columns = [col for col in data.columns if col not in [\"IDNO\",\"BODYFAT\",\"DENSITY\",\"AGE\"]]\n",
    "df_removed = df.copy()\n",
    "for column in filtered_columns:\n",
    "    Q1 = df[column].quantile(0.25)\n",
    "    Q3 = df[column].quantile(0.75)\n",
    "    IQR = Q3 - Q1\n",
    "    lower_bound = Q1 - 1.5 * IQR\n",
    "    upper_bound = Q3 + 1.5 * IQR\n",
    "    \n",
    "    df_removed[column] = df[(df[column] >= lower_bound) & (df[column] <= upper_bound)][column]\n",
    "\n",
    "\n",
    "plt.figure(figsize=(10, 5))\n",
    "df_removed.boxplot()\n",
    "plt.xticks(rotation=90)\n",
    "plt.title('Boxplot of Filtered Data (After Removing Outliers)')\n",
    "plt.show()"
   ]
  },
  {
   "cell_type": "code",
   "execution_count": null,
   "metadata": {},
   "outputs": [],
   "source": [
    "df_removed.describe()\n",
    "# X = df_removed.drop(columns=[\"IDNO\",\"BODYFAT\",\"DENSITY\",\"ADIPOSITY\"])\n",
    "X = df_removed.drop(columns=[\"IDNO\",\"BODYFAT\",\"DENSITY\"])\n",
    "y = df_removed[\"BODYFAT\"]\n",
    "print(\"X missing data:\\n\",X.isnull().sum())\n",
    "print(\"y missing data:\\n\",y.isnull().sum())"
   ]
  },
  {
   "cell_type": "markdown",
   "metadata": {},
   "source": [
    "### K-fold searching for k"
   ]
  },
  {
   "cell_type": "code",
   "execution_count": null,
   "metadata": {},
   "outputs": [],
   "source": [
    "pipeline = Pipeline(steps=[\n",
    "    ('scaler', MinMaxScaler()),\n",
    "    ('imputer', KNNImputer()),  \n",
    "    ('model',KNeighborsRegressor())  \n",
    "])\n",
    "\n",
    "param_grid = {\n",
    "    'imputer__n_neighbors': [ 3,5,7,9, 11, 13, 15, 17, 19, 21, 25]  \n",
    "}\n",
    "\n",
    "kf = KFold(n_splits=5, shuffle=True, random_state=42)\n",
    "#kf = KFold(n_splits=5, shuffle=True)\n",
    "grid_search = GridSearchCV(estimator=pipeline, param_grid=param_grid, cv=kf, scoring='neg_mean_squared_error')\n",
    "grid_search.fit(X, y)\n",
    "\n",
    "print(\"Best n_neighbors:\", grid_search.best_params_)"
   ]
  },
  {
   "cell_type": "markdown",
   "metadata": {},
   "source": [
    "## Imputation"
   ]
  },
  {
   "cell_type": "code",
   "execution_count": 1245,
   "metadata": {},
   "outputs": [],
   "source": [
    "imputer = KNNImputer(n_neighbors=3)\n",
    "df_imputed = pd.DataFrame(imputer.fit_transform(df_removed), columns=df_removed.columns)\n",
    "\n",
    "\n",
    "# scaler = MinMaxScaler()\n",
    "# scaler.fit(df_imputed)\n",
    "# df_imputed_scaled = pd.DataFrame(scaler.transform(df_imputed),columns=df_imputed.columns)\n",
    "\n",
    "# df_imputed_scaled.describe()"
   ]
  },
  {
   "cell_type": "code",
   "execution_count": null,
   "metadata": {},
   "outputs": [],
   "source": [
    "plt.figure(figsize=(10, 5))\n",
    "df_imputed.boxplot()\n",
    "plt.title('Boxplot of Imputed Data')\n",
    "plt.xticks(rotation=75)\n",
    "plt.show()"
   ]
  },
  {
   "cell_type": "markdown",
   "metadata": {},
   "source": [
    "### Dealing with BMI calculating problem(not solved)"
   ]
  },
  {
   "cell_type": "code",
   "execution_count": null,
   "metadata": {},
   "outputs": [],
   "source": [
    "ratio = (df_imputed[\"WEIGHT\"]/df_imputed[\"HEIGHT\"]**2)/df_imputed[\"ADIPOSITY\"]\n",
    "pd.DataFrame(ratio).describe()\n",
    "plt.figure(figsize=(10, 5))\n",
    "pd.DataFrame(ratio).boxplot()\n",
    "plt.title('Boxplot of Imputed Data')\n",
    "plt.xticks(rotation=75)\n",
    "plt.show()"
   ]
  },
  {
   "cell_type": "markdown",
   "metadata": {},
   "source": [
    "$$ratio = \\frac{\\frac{Weight}{Height^2}}{bmi}$$\n",
    "\n",
    "$$1kg = 2.2046lb $$\n",
    "$$1m = 39.3701in$$\n",
    "$$\\frac{1kg}{1m^2}=\\frac{2.2046lb}{(39.3701in)^2}=0.001422\\frac{lb}{in^2}$$\n"
   ]
  },
  {
   "cell_type": "code",
   "execution_count": null,
   "metadata": {},
   "outputs": [],
   "source": [
    "ratio_df = pd.DataFrame(ratio)\n",
    "\n",
    "\n",
    "outliers_index = []\n",
    "\n",
    "\n",
    "for col in ratio_df.columns:\n",
    "    Q1 = ratio_df[col].quantile(0.25)  \n",
    "    Q3 = ratio_df[col].quantile(0.75)  \n",
    "    IQR = Q3 - Q1  \n",
    "    \n",
    "    lower_bound = Q1 - 1.5 * IQR  \n",
    "    upper_bound = Q3 + 1.5 * IQR  \n",
    "    \n",
    "\n",
    "    outliers = ratio_df[(ratio_df[col] < lower_bound) | (ratio_df[col] > upper_bound)].index\n",
    "    outliers_index.extend(outliers.tolist()) \n",
    "\n",
    "\n",
    "outliers_index = sorted(set(outliers_index))  \n",
    "print(f\"All Outliers Index: {outliers_index}\")"
   ]
  },
  {
   "cell_type": "code",
   "execution_count": null,
   "metadata": {},
   "outputs": [],
   "source": [
    "handle = df_imputed.iloc[outliers_index,:]\n",
    "handle"
   ]
  },
  {
   "cell_type": "code",
   "execution_count": null,
   "metadata": {},
   "outputs": [],
   "source": [
    "mean_height = df_imputed['HEIGHT'].mean()\n",
    "std_height = df_imputed['HEIGHT'].std()\n",
    "mean_weight = df_imputed['WEIGHT'].mean()\n",
    "std_weight =df_imputed['WEIGHT'].std()\n",
    "\n",
    "\n",
    "handle['zscore_height'] = (handle['HEIGHT'] - mean_height) / std_height\n",
    "handle['zscore_weight'] = (handle['WEIGHT'] - mean_weight) / std_weight\n",
    "transform = 0.001422\n",
    "\n",
    "def recalculate_values(row):\n",
    "    if abs(row['zscore_height']) > abs(row['zscore_weight']):\n",
    "        new_height = np.sqrt(row['WEIGHT'] / (row['ADIPOSITY']*transform))\n",
    "        return new_height, row['WEIGHT']  \n",
    "    else:\n",
    "        new_weight = row['ADIPOSITY'] * (row['HEIGHT'] ** 2)*transform\n",
    "        return row['HEIGHT'], new_weight  \n",
    "\n",
    "handle = pd.DataFrame(handle)\n",
    "handle[['new_height', 'new_weight']] = handle.apply(recalculate_values, axis=1, result_type='expand')\n",
    "\n",
    "handle['HEIGHT'] = handle['new_height']\n",
    "handle['WEIGHT'] = handle['new_weight']\n",
    "\n",
    "handle.drop(columns=['zscore_height', 'zscore_weight', 'new_height', 'new_weight'], inplace=True)\n",
    "handle"
   ]
  },
  {
   "cell_type": "code",
   "execution_count": null,
   "metadata": {},
   "outputs": [],
   "source": [
    "df_imputed.set_index('IDNO', inplace=True)\n",
    "handle.set_index('IDNO', inplace=True)\n",
    "\n",
    "df_imputed.update(handle)\n",
    "\n",
    "df_imputed.reset_index(inplace=True)\n",
    "df_imputed.describe()"
   ]
  },
  {
   "cell_type": "code",
   "execution_count": null,
   "metadata": {},
   "outputs": [],
   "source": [
    "ratio = (df_imputed[\"WEIGHT\"]/df_imputed[\"HEIGHT\"]**2)/df_imputed[\"ADIPOSITY\"]\n",
    "\n",
    "plt.figure(figsize=(10, 5))\n",
    "pd.DataFrame(ratio).boxplot()\n",
    "plt.title('Boxplot of Imputed Data')\n",
    "plt.xticks(rotation=75)\n",
    "plt.show()"
   ]
  },
  {
   "cell_type": "code",
   "execution_count": null,
   "metadata": {},
   "outputs": [],
   "source": [
    "df_imputed"
   ]
  },
  {
   "cell_type": "code",
   "execution_count": null,
   "metadata": {},
   "outputs": [],
   "source": [
    "df_imputed[\"BFP\"] =495/(1.0324 - 0.19077*np.log10(df_imputed[\"ABDOMEN\"]-df_imputed[\"NECK\"]) + 0.15456*np.log10(df_imputed[\"HEIGHT\"]*2.54))-450\n",
    "\n",
    "\n",
    "df_selected = df_imputed[['BFP', 'BODYFAT']]\n",
    "\n",
    "print(df_selected)"
   ]
  },
  {
   "cell_type": "code",
   "execution_count": null,
   "metadata": {},
   "outputs": [],
   "source": [
    "plt.scatter(df_imputed['BODYFAT'], df_imputed['BFP'], color='blue', label='BFP vs BODYFAT')\n",
    "\n",
    "plt.title('Comparison of BFP and BODYFAT')\n",
    "plt.xlabel('BODYFAT')\n",
    "plt.ylabel('BFP')\n",
    "\n",
    "\n",
    "plt.plot([df_imputed['BODYFAT'].min(), df_imputed['BODYFAT'].max()], \n",
    "         [df_imputed['BODYFAT'].min(), df_imputed['BODYFAT'].max()], \n",
    "         color='red', linestyle='--', label='Ideal line (y=x)')\n",
    "\n",
    "plt.legend()\n",
    "\n",
    "plt.show()"
   ]
  },
  {
   "cell_type": "code",
   "execution_count": null,
   "metadata": {},
   "outputs": [],
   "source": [
    "\n",
    "df_selected['Residual'] = df_selected['BFP'] - df_selected['BODYFAT']\n",
    "\n",
    "\n",
    "df_selected['Abs_Residual'] = np.abs(df_selected['Residual']/df_selected['BFP'])\n",
    "\n",
    "\n",
    "df_sorted_by_residual = df_selected.sort_values(by='Abs_Residual', ascending=False)\n",
    "\n",
    "\n",
    "print(df_sorted_by_residual.head(20))\n",
    "\n",
    "\n"
   ]
  },
  {
   "cell_type": "code",
   "execution_count": null,
   "metadata": {},
   "outputs": [],
   "source": [
    "high_residual_ids = df_sorted_by_residual[df_sorted_by_residual['Abs_Residual'] > 0.5].index\n",
    "\n",
    "\n",
    "df_imputed.loc[high_residual_ids, 'BODYFAT'] = df_imputed.loc[high_residual_ids, 'BFP']\n",
    "\n",
    "df_imputed = df_imputed.drop(columns=[\"BFP\"])\n",
    "\n",
    "df_imputed.describe()"
   ]
  },
  {
   "cell_type": "code",
   "execution_count": 1259,
   "metadata": {},
   "outputs": [],
   "source": [
    "import numpy as np\n",
    "import pandas as pd\n",
    "import matplotlib.pyplot as plt\n",
    "from sklearn.linear_model import LinearRegression\n",
    "\n"
   ]
  },
  {
   "cell_type": "markdown",
   "metadata": {},
   "source": [
    "## SCALED"
   ]
  },
  {
   "cell_type": "code",
   "execution_count": 1260,
   "metadata": {},
   "outputs": [],
   "source": [
    "scaler = MinMaxScaler()\n",
    "scaler.fit(df_imputed)\n",
    "df_imputed_scaled = pd.DataFrame(scaler.transform(df_imputed),columns=df_imputed.columns)"
   ]
  },
  {
   "cell_type": "markdown",
   "metadata": {},
   "source": [
    "## Step-wise Selection"
   ]
  },
  {
   "cell_type": "code",
   "execution_count": 1261,
   "metadata": {},
   "outputs": [],
   "source": [
    "def forward_selection(X, y, significance_level=0.05):\n",
    "    initial_features = []\n",
    "    remaining_features = list(X.columns)\n",
    "    while remaining_features:\n",
    "        p_values = pd.Series(index=remaining_features, dtype=float)\n",
    "        for feature in remaining_features:\n",
    "            model = sm.OLS(y, sm.add_constant(X[initial_features + [feature]])).fit()\n",
    "            p_values[feature] = model.pvalues[feature]\n",
    "        min_p_value = p_values.min()\n",
    "        if min_p_value < significance_level:\n",
    "            best_feature = p_values.idxmin()\n",
    "            initial_features.append(best_feature)\n",
    "            remaining_features.remove(best_feature)\n",
    "        else:\n",
    "            break\n",
    "    return initial_features"
   ]
  },
  {
   "cell_type": "code",
   "execution_count": 1262,
   "metadata": {},
   "outputs": [],
   "source": [
    "def backward_selection(X, y, significance_level=0.05):\n",
    "    features = list(X.columns) \n",
    "    while len(features) > 0:\n",
    "        model = sm.OLS(y, X[features]).fit()\n",
    "        p_values = model.pvalues\n",
    "        max_p_value = p_values.max()\n",
    "        if max_p_value > significance_level:\n",
    "            excluded_feature = p_values.idxmax()\n",
    "            print(f\"Removing {excluded_feature} with p-value {max_p_value}\")\n",
    "            features.remove(excluded_feature)\n",
    "        else:\n",
    "            break\n",
    "    return features"
   ]
  },
  {
   "cell_type": "code",
   "execution_count": 1263,
   "metadata": {},
   "outputs": [],
   "source": [
    "from sklearn.feature_selection import SequentialFeatureSelector as SFS"
   ]
  },
  {
   "cell_type": "code",
   "execution_count": null,
   "metadata": {},
   "outputs": [],
   "source": [
    "X_imputed = df_imputed.drop(columns=[\"IDNO\",\"BODYFAT\",\"DENSITY\"])\n",
    "y = df_imputed[\"BODYFAT\"]\n",
    "\n",
    "model = LinearRegression()\n",
    "\n",
    "sfs = SFS(model, n_features_to_select='auto', direction='forward',cv=None)\n",
    "sfs.fit(X_imputed , y)\n",
    "\n",
    "selected_features = sfs.get_support()\n",
    "# print(\"Selected features (by index):\", selected_features)\n",
    "X_selected = X_imputed.loc[:, selected_features]   \n",
    "\n",
    "print(\"Selected features matrix:\\n\", X_selected.columns)"
   ]
  },
  {
   "cell_type": "code",
   "execution_count": null,
   "metadata": {},
   "outputs": [],
   "source": [
    "X_imputed_scaled = df_imputed_scaled.drop(columns=[\"IDNO\",\"BODYFAT\",\"DENSITY\"])\n",
    "y = df_imputed[\"BODYFAT\"]\n",
    "\n",
    "model = LinearRegression()\n",
    "\n",
    "sfs = SFS(model, n_features_to_select='auto', direction='backward',cv=5)\n",
    "sfs.fit(X_imputed_scaled , y)\n",
    "\n",
    "selected_features = sfs.get_support()\n",
    "# print(\"Selected features (by index):\", selected_features)\n",
    "X_selected = X_imputed_scaled.loc[:, selected_features]   \n",
    "\n",
    "print(\"Selected features matrix:\\n\", X_selected.columns)"
   ]
  },
  {
   "cell_type": "code",
   "execution_count": 1266,
   "metadata": {},
   "outputs": [],
   "source": [
    "def stepwise_selection(X, y, \n",
    "                       initial_list=[], \n",
    "                       threshold_in=0.05, \n",
    "                       threshold_out = 0.05, \n",
    "                       verbose=True):\n",
    "    \"\"\" Perform a forward-backward feature selection \n",
    "    based on p-value from statsmodels.api.OLS\n",
    "    \"\"\"\n",
    "    included = list(initial_list)\n",
    "    while True:\n",
    "        changed=False\n",
    "        # forward step\n",
    "        excluded = list(set(X.columns)-set(included))\n",
    "        new_pval = pd.Series(index=excluded)\n",
    "        for new_column in excluded:\n",
    "            model = sm.OLS(y, sm.add_constant(pd.DataFrame(X[included+[new_column]]))).fit()\n",
    "            new_pval[new_column] = model.pvalues[new_column]\n",
    "        best_pval = new_pval.min()\n",
    "        if best_pval < threshold_in:\n",
    "            best_feature = new_pval.idxmin()\n",
    "            included.append(best_feature)\n",
    "            changed=True\n",
    "            if verbose:\n",
    "                print('Add  {:30} with p-value {:.6}'.format(best_feature, best_pval))\n",
    "\n",
    "        # backward step\n",
    "        model = sm.OLS(y, sm.add_constant(pd.DataFrame(X[included]))).fit()\n",
    "        # use all coefs except intercept\n",
    "        pvalues = model.pvalues.iloc[1:]\n",
    "        worst_pval = pvalues.max() \n",
    "        if worst_pval > threshold_out:\n",
    "            changed=True\n",
    "            worst_feature = pvalues.idxmax()\n",
    "            included.remove(worst_feature)\n",
    "            if verbose:\n",
    "                print('Drop {:30} with p-value {:.6}'.format(worst_feature, worst_pval))\n",
    "        if not changed:\n",
    "            break\n",
    "    return included"
   ]
  },
  {
   "cell_type": "code",
   "execution_count": null,
   "metadata": {},
   "outputs": [],
   "source": [
    "result_forward = forward_selection(X_imputed_scaled , y)\n",
    "result_forward"
   ]
  },
  {
   "cell_type": "code",
   "execution_count": null,
   "metadata": {},
   "outputs": [],
   "source": [
    "result_backward = backward_selection(X_imputed_scaled , y)\n",
    "result_backward"
   ]
  },
  {
   "cell_type": "code",
   "execution_count": null,
   "metadata": {},
   "outputs": [],
   "source": [
    "output_stepwise = stepwise_selection(X_imputed_scaled , y)\n",
    "result_stepwise = output_stepwise\n",
    "result_stepwise"
   ]
  },
  {
   "cell_type": "markdown",
   "metadata": {},
   "source": [
    "## Visualization"
   ]
  },
  {
   "cell_type": "code",
   "execution_count": null,
   "metadata": {},
   "outputs": [],
   "source": [
    "X_forward = X_imputed_scaled.loc[:, result_forward]\n",
    "X_backward = X_imputed_scaled.loc[:, result_backward]\n",
    "X_stepwise = X_imputed_scaled.loc[:, result_stepwise] \n",
    "\n",
    "model = LinearRegression()\n",
    "\n",
    "model.fit(X_forward,y)\n",
    "\n",
    "y_pred = model.predict(X_forward)\n",
    "\n",
    "\n",
    "plt.figure(figsize=(10, 6))\n",
    "plt.scatter(y, y_pred, color='blue', label='Predicted vs Actual')\n",
    "plt.plot([y.min(), y.max()], [y.min(), y.max()], color='red', lw=2, label='Ideal fit')\n",
    "plt.xlabel('Actual(%)')\n",
    "plt.ylabel('Predicted(%)')\n",
    "plt.title('Actual vs Predicted(MLR Forward Selection)')\n",
    "plt.legend()\n",
    "\n",
    "plt.show()\n",
    "\n",
    "\n",
    "print(\"Mean Squared Error:\", mean_squared_error(y, y_pred))"
   ]
  },
  {
   "cell_type": "code",
   "execution_count": null,
   "metadata": {},
   "outputs": [],
   "source": [
    "cv_scores = cross_val_score(model, X_forward, y, cv=5, scoring='neg_mean_squared_error')\n",
    "\n",
    "cv_mse_scores = -cv_scores\n",
    "\n",
    "print(\"Cross-Validation MSE for each fold:\", cv_mse_scores)\n",
    "\n",
    "print(\"Average MSE from Cross-Validation:\", cv_mse_scores.mean())"
   ]
  },
  {
   "cell_type": "code",
   "execution_count": null,
   "metadata": {},
   "outputs": [],
   "source": [
    "model = LinearRegression()\n",
    "\n",
    "model.fit(X_backward,y)\n",
    "\n",
    "y_pred = model.predict(X_backward)\n",
    "\n",
    "\n",
    "plt.figure(figsize=(10, 6))\n",
    "plt.scatter(y, y_pred, color='blue', label='Predicted vs Actual')\n",
    "plt.plot([y.min(), y.max()], [y.min(), y.max()], color='red', lw=2, label='Ideal fit')\n",
    "plt.xlabel('Actual(%)')\n",
    "plt.ylabel('Predicted(%)')\n",
    "plt.title('Actual vs Predicted(MLR Backward Selection)')\n",
    "plt.legend()\n",
    "\n",
    "plt.show()\n",
    "\n",
    "\n",
    "print(\"Mean Squared Error:\", mean_squared_error(y, y_pred))"
   ]
  },
  {
   "cell_type": "code",
   "execution_count": null,
   "metadata": {},
   "outputs": [],
   "source": [
    "cv_scores = cross_val_score(model, X_backward, y, cv=5, scoring='neg_mean_squared_error')\n",
    "\n",
    "cv_mse_scores = -cv_scores\n",
    "\n",
    "print(\"Cross-Validation MSE for each fold:\", cv_mse_scores)\n",
    "\n",
    "print(\"Average MSE from Cross-Validation:\", cv_mse_scores.mean())"
   ]
  },
  {
   "cell_type": "code",
   "execution_count": null,
   "metadata": {},
   "outputs": [],
   "source": [
    "model = LinearRegression()\n",
    "\n",
    "model.fit(X_stepwise,y)\n",
    "\n",
    "y_pred = model.predict(X_stepwise)\n",
    "\n",
    "plt.figure(figsize=(10, 6))\n",
    "plt.scatter(y, y_pred, color='blue', label='Predicted vs Actual')\n",
    "plt.plot([y.min(), y.max()], [y.min(), y.max()], color='red', lw=2, label='Ideal fit')\n",
    "plt.xlabel('Actual(%)')\n",
    "plt.ylabel('Predicted(%)')\n",
    "plt.title('Actual vs Predicted(MLR Stepwise Selection)')\n",
    "plt.legend()\n",
    "\n",
    "plt.show()\n",
    "\n",
    "\n",
    "print(\"Mean Squared Error:\", mean_squared_error(y, y_pred))"
   ]
  },
  {
   "cell_type": "code",
   "execution_count": null,
   "metadata": {},
   "outputs": [],
   "source": [
    "cv_scores = cross_val_score(model, X_stepwise, y, cv=5, scoring='neg_mean_squared_error')\n",
    "\n",
    "cv_mse_scores = -cv_scores\n",
    "\n",
    "print(\"Cross-Validation MSE for each fold:\", cv_mse_scores)\n",
    "\n",
    "print(\"Average MSE from Cross-Validation:\", cv_mse_scores.mean())"
   ]
  },
  {
   "cell_type": "code",
   "execution_count": null,
   "metadata": {},
   "outputs": [],
   "source": [
    "X_with_const = sm.add_constant(X_forward)  \n",
    "ols_model = sm.OLS(y, X_with_const)\n",
    "results = ols_model.fit()\n",
    "\n",
    "\n",
    "print(\"forward:\",results.summary())"
   ]
  },
  {
   "cell_type": "code",
   "execution_count": null,
   "metadata": {},
   "outputs": [],
   "source": [
    "X_with_const = sm.add_constant(X_backward)  \n",
    "ols_model = sm.OLS(y, X_with_const)\n",
    "results = ols_model.fit()\n",
    "\n",
    "\n",
    "print(\"stepwise:\",results.summary())"
   ]
  },
  {
   "cell_type": "markdown",
   "metadata": {},
   "source": [
    "## Decision Tree"
   ]
  },
  {
   "cell_type": "code",
   "execution_count": 1278,
   "metadata": {},
   "outputs": [],
   "source": [
    "from sklearn.tree import DecisionTreeRegressor, plot_tree ,export_text\n",
    "\n",
    "X = df_imputed_scaled.drop(columns=[\"IDNO\",\"BODYFAT\",\"DENSITY\"])\n",
    "y = df_imputed[\"BODYFAT\"]\n",
    "\n",
    "tree_model = DecisionTreeRegressor(max_depth=None)\n",
    "tree_model.fit(X, y)\n",
    "\n",
    "importances = tree_model.feature_importances_"
   ]
  },
  {
   "cell_type": "code",
   "execution_count": 1279,
   "metadata": {},
   "outputs": [],
   "source": [
    "feature_names = X.columns if isinstance(X, pd.DataFrame) else [f\"Feature {i}\" for i in range(X.shape[1])]\n"
   ]
  },
  {
   "cell_type": "code",
   "execution_count": null,
   "metadata": {},
   "outputs": [],
   "source": [
    "feature_importance_dict = {feature: importance for feature, importance in zip(feature_names, importances)}\n",
    "\n",
    "\n",
    "sorted_feature_importance = dict(sorted(feature_importance_dict.items(), key=lambda item: item[1], reverse=True))\n",
    "\n",
    "\n",
    "print(\"Sorted feature importance:\")\n",
    "for feature, importance in sorted_feature_importance.items():\n",
    "    print(f\"{feature}: {importance}\")"
   ]
  },
  {
   "cell_type": "code",
   "execution_count": null,
   "metadata": {},
   "outputs": [],
   "source": [
    "sorted_feature_names = [feature for feature, importance in sorted_feature_importance.items()][:6]\n",
    "\n",
    "sorted_feature_names"
   ]
  },
  {
   "cell_type": "code",
   "execution_count": null,
   "metadata": {},
   "outputs": [],
   "source": [
    "X_tree_selected = X[sorted_feature_names]\n",
    "X_tree_selected"
   ]
  },
  {
   "cell_type": "code",
   "execution_count": null,
   "metadata": {},
   "outputs": [],
   "source": [
    "tree_model = DecisionTreeRegressor(max_depth=5)\n",
    "tree_model.fit(X_tree_selected, y)\n",
    "\n",
    "y_pred = tree_model.predict(X_tree_selected)\n",
    "\n",
    "\n",
    "plt.figure(figsize=(10, 6))\n",
    "plt.scatter(y, y_pred, color='blue', label='Predicted vs Actual')\n",
    "\n",
    "plt.plot([y.min(), y.max()], [y.min(), y.max()], color='red', lw=2, label='Ideal fit')\n",
    "\n",
    "plt.xlabel('Actual(%)')\n",
    "plt.ylabel('Predicted(%)')\n",
    "plt.title('Actual vs Predicted (Decision Tree Regressor)')\n",
    "plt.legend()\n",
    "\n",
    "plt.show()\n"
   ]
  },
  {
   "cell_type": "code",
   "execution_count": null,
   "metadata": {},
   "outputs": [],
   "source": [
    "cv_scores = cross_val_score(tree_model, X_tree_selected, y, cv=5, scoring='neg_mean_squared_error')\n",
    "\n",
    "cv_mse_scores = -cv_scores\n",
    "\n",
    "print(\"Cross-Validation MSE for each fold:\", cv_mse_scores)\n",
    "\n",
    "print(\"Average MSE from Cross-Validation:\", cv_mse_scores.mean())"
   ]
  },
  {
   "cell_type": "code",
   "execution_count": null,
   "metadata": {},
   "outputs": [],
   "source": [
    "tree_rules = export_text(tree_model, feature_names=list(X_tree_selected.columns))\n",
    "print(tree_rules)"
   ]
  }
 ],
 "metadata": {
  "kernelspec": {
   "display_name": "scrna",
   "language": "python",
   "name": "python3"
  },
  "language_info": {
   "codemirror_mode": {
    "name": "ipython",
    "version": 3
   },
   "file_extension": ".py",
   "mimetype": "text/x-python",
   "name": "python",
   "nbconvert_exporter": "python",
   "pygments_lexer": "ipython3",
   "version": "3.11.9"
  },
  "orig_nbformat": 4
 },
 "nbformat": 4,
 "nbformat_minor": 2
}
