{
 "cells": [
  {
   "cell_type": "markdown",
   "metadata": {},
   "source": [
    "## Packages"
   ]
  },
  {
   "cell_type": "code",
   "execution_count": 227,
   "metadata": {},
   "outputs": [],
   "source": [
    "import numpy as np\n",
    "import pandas as pd\n",
    "\n",
    "import statsmodels.api as sm\n",
    "\n",
    "import matplotlib.pyplot as plt\n",
    "\n",
    "import seaborn as sns\n",
    "\n",
    "from sklearn.preprocessing import StandardScaler,MinMaxScaler\n",
    "from sklearn.linear_model import LinearRegression\n",
    "from sklearn.model_selection import train_test_split, GridSearchCV, KFold,cross_val_score\n",
    "from sklearn.metrics import accuracy_score,mean_squared_error\n",
    "from sklearn.neighbors import KNeighborsRegressor\n",
    "from sklearn.inspection import permutation_importance\n",
    "from sklearn.impute import KNNImputer\n",
    "from sklearn.pipeline import Pipeline\n",
    "from sklearn.tree import DecisionTreeRegressor, plot_tree ,export_text"
   ]
  },
  {
   "cell_type": "markdown",
   "metadata": {},
   "source": [
    "## Data preprocessing"
   ]
  },
  {
   "cell_type": "code",
   "execution_count": null,
   "metadata": {},
   "outputs": [],
   "source": [
    "data = pd.read_csv(\"BodyFat.csv\")\n",
    "print(data.isnull().sum())\n",
    "data.describe()"
   ]
  },
  {
   "cell_type": "code",
   "execution_count": null,
   "metadata": {},
   "outputs": [],
   "source": [
    "\n",
    "ls = list(data.loc[:,\"BODYFAT\"])\n",
    "ls.sort()\n",
    "ls"
   ]
  },
  {
   "cell_type": "code",
   "execution_count": null,
   "metadata": {},
   "outputs": [],
   "source": [
    "df = pd.DataFrame(data)\n",
    "plt.figure(figsize=(10, 5))\n",
    "df.boxplot()\n",
    "plt.title('Boxplot of Original Data')\n",
    "plt.xticks(rotation=75)\n",
    "plt.show()\n",
    "\n"
   ]
  },
  {
   "cell_type": "markdown",
   "metadata": {},
   "source": [
    "### Remove outliers of features"
   ]
  },
  {
   "cell_type": "code",
   "execution_count": null,
   "metadata": {},
   "outputs": [],
   "source": [
    "# using IQR to replace outliers of features with NA's\n",
    "\n",
    "filtered_columns = [col for col in data.columns if col not in [\"IDNO\",\"BODYFAT\",\"DENSITY\",\"AGE\"]]\n",
    "df_removed = df.copy()\n",
    "for column in filtered_columns:\n",
    "    Q1 = df[column].quantile(0.25)\n",
    "    Q3 = df[column].quantile(0.75)\n",
    "    IQR = Q3 - Q1\n",
    "    lower_bound = Q1 - 1.5 * IQR\n",
    "    upper_bound = Q3 + 1.5 * IQR\n",
    "    \n",
    "    df_removed[column] = df[(df[column] >= lower_bound) & (df[column] <= upper_bound)][column]\n",
    "\n",
    "# boxplot of fitered data\n",
    "\n",
    "plt.figure(figsize=(10, 5))\n",
    "df_removed.boxplot()\n",
    "plt.xticks(rotation=90)\n",
    "plt.title('Boxplot of Filtered Data (After Removing Outliers)')\n",
    "plt.show()"
   ]
  },
  {
   "cell_type": "code",
   "execution_count": null,
   "metadata": {},
   "outputs": [],
   "source": [
    "# check the NA's after removing outliers\n",
    "df_removed.describe()\n",
    "X = df_removed.drop(columns=[\"IDNO\",\"BODYFAT\",\"DENSITY\"])\n",
    "y = df_removed[\"BODYFAT\"]\n",
    "print(\"X missing data:\\n\",X.isnull().sum())\n",
    "print(\"y missing data:\\n\",y.isnull().sum())"
   ]
  },
  {
   "cell_type": "markdown",
   "metadata": {},
   "source": [
    "### KNN to impute the NA's of features"
   ]
  },
  {
   "cell_type": "code",
   "execution_count": null,
   "metadata": {},
   "outputs": [],
   "source": [
    "# K-fold to search for the best parameter K of KNN method\n",
    "pipeline = Pipeline(steps=[\n",
    "    ('scaler', MinMaxScaler()),\n",
    "    ('imputer', KNNImputer()),  \n",
    "    ('model',KNeighborsRegressor())  \n",
    "])\n",
    "\n",
    "param_grid = {\n",
    "    'imputer__n_neighbors': [ 3,5,7,9, 11, 13, 15, 17, 19, 21, 25]  \n",
    "}\n",
    "\n",
    "kf = KFold(n_splits=5, shuffle=True, random_state=42)\n",
    "grid_search = GridSearchCV(estimator=pipeline, param_grid=param_grid, cv=kf, scoring='neg_mean_squared_error')\n",
    "grid_search.fit(X, y)\n",
    "\n",
    "print(\"Best n_neighbors:\", grid_search.best_params_)"
   ]
  },
  {
   "cell_type": "markdown",
   "metadata": {},
   "source": [
    "### Imputation"
   ]
  },
  {
   "cell_type": "code",
   "execution_count": 234,
   "metadata": {},
   "outputs": [],
   "source": [
    "imputer = KNNImputer(n_neighbors=3)\n",
    "df_imputed = pd.DataFrame(imputer.fit_transform(df_removed), columns=df_removed.columns)\n"
   ]
  },
  {
   "cell_type": "code",
   "execution_count": null,
   "metadata": {},
   "outputs": [],
   "source": [
    "# box plot of imputed data\n",
    "plt.figure(figsize=(10, 5))\n",
    "df_imputed.boxplot()\n",
    "plt.title('Boxplot of Imputed Data')\n",
    "plt.xticks(rotation=75)\n",
    "plt.show()"
   ]
  },
  {
   "cell_type": "markdown",
   "metadata": {},
   "source": [
    "### Dealing with BMI calculating problem"
   ]
  },
  {
   "cell_type": "code",
   "execution_count": null,
   "metadata": {},
   "outputs": [],
   "source": [
    "# box plot of the ratio between theoretical bmi values and the actual bmi values from the dataset\n",
    "ratio = (df_imputed[\"WEIGHT\"]/df_imputed[\"HEIGHT\"]**2)/df_imputed[\"ADIPOSITY\"]\n",
    "pd.DataFrame(ratio).describe()\n",
    "plt.figure(figsize=(10, 5))\n",
    "pd.DataFrame(ratio).boxplot()\n",
    "plt.title('Boxplot of Imputed Data')\n",
    "plt.xticks(rotation=75)\n",
    "plt.show()"
   ]
  },
  {
   "cell_type": "markdown",
   "metadata": {},
   "source": [
    "$$ratio = \\frac{\\frac{Weight}{Height^2}}{bmi}$$\n",
    "\n",
    "$$1kg = 2.2046lb $$\n",
    "$$1m = 39.3701in$$\n",
    "$$\\frac{1kg}{1m^2}=\\frac{2.2046lb}{(39.3701in)^2}=0.001422\\frac{lb}{in^2}$$\n"
   ]
  },
  {
   "cell_type": "code",
   "execution_count": null,
   "metadata": {},
   "outputs": [],
   "source": [
    "ratio_df = pd.DataFrame(ratio)\n",
    "\n",
    "\n",
    "outliers_index = []\n",
    "\n",
    "\n",
    "for col in ratio_df.columns:\n",
    "    Q1 = ratio_df[col].quantile(0.25)  \n",
    "    Q3 = ratio_df[col].quantile(0.75)  \n",
    "    IQR = Q3 - Q1  \n",
    "    \n",
    "    lower_bound = Q1 - 1.5 * IQR  \n",
    "    upper_bound = Q3 + 1.5 * IQR  \n",
    "    \n",
    "\n",
    "    outliers = ratio_df[(ratio_df[col] < lower_bound) | (ratio_df[col] > upper_bound)].index\n",
    "    outliers_index.extend(outliers.tolist()) \n",
    "\n",
    "# list the outliers of the ratio values\n",
    "\n",
    "outliers_index = sorted(set(outliers_index))  \n",
    "print(f\"All Outliers Index: {outliers_index}\")"
   ]
  },
  {
   "cell_type": "code",
   "execution_count": null,
   "metadata": {},
   "outputs": [],
   "source": [
    "# use actual bmi values to replace the outliers of weight or height\n",
    "\n",
    "handle = pd.DataFrame(df_imputed.iloc[outliers_index,:])\n",
    "\n",
    "mean_height = df_imputed['HEIGHT'].mean()\n",
    "std_height = df_imputed['HEIGHT'].std()\n",
    "mean_weight = df_imputed['WEIGHT'].mean()\n",
    "std_weight =df_imputed['WEIGHT'].std()\n",
    "\n",
    "\n",
    "handle['zscore_height'] = (handle['HEIGHT'] - mean_height) / std_height\n",
    "handle['zscore_weight'] = (handle['WEIGHT'] - mean_weight) / std_weight\n",
    "transform = 0.001422\n",
    "\n",
    "def recalculate_values(row):\n",
    "    if abs(row['zscore_height']) > abs(row['zscore_weight']):\n",
    "        new_height = np.sqrt(row['WEIGHT'] / (row['ADIPOSITY']*transform))\n",
    "        return new_height, row['WEIGHT']  \n",
    "    else:\n",
    "        new_weight = row['ADIPOSITY'] * (row['HEIGHT'] ** 2)*transform\n",
    "        return row['HEIGHT'], new_weight  \n",
    "\n",
    "handle = pd.DataFrame(handle)\n",
    "handle[['new_height', 'new_weight']] = handle.apply(recalculate_values, axis=1, result_type='expand')\n",
    "\n",
    "handle['HEIGHT'] = handle['new_height']\n",
    "handle['WEIGHT'] = handle['new_weight']\n",
    "\n",
    "handle.drop(columns=['zscore_height', 'zscore_weight', 'new_height', 'new_weight'], inplace=True)\n",
    "\n",
    "df_imputed.set_index('IDNO', inplace=True)\n",
    "handle.set_index('IDNO', inplace=True)\n",
    "\n",
    "df_imputed.update(handle)\n",
    "\n",
    "df_imputed.reset_index(inplace=True)\n",
    "df_imputed.describe()"
   ]
  },
  {
   "cell_type": "code",
   "execution_count": null,
   "metadata": {},
   "outputs": [],
   "source": [
    "# check the ratio now\n",
    "ratio = (df_imputed[\"WEIGHT\"]/df_imputed[\"HEIGHT\"]**2)/df_imputed[\"ADIPOSITY\"]\n",
    "\n",
    "plt.figure(figsize=(10, 5))\n",
    "pd.DataFrame(ratio).boxplot()\n",
    "plt.title('Boxplot of Imputed Data')\n",
    "plt.xticks(rotation=75)\n",
    "plt.show()"
   ]
  },
  {
   "cell_type": "markdown",
   "metadata": {},
   "source": [
    "### Handling outliers of Bodyfat"
   ]
  },
  {
   "cell_type": "code",
   "execution_count": null,
   "metadata": {},
   "outputs": [],
   "source": [
    "# use other models to handle outliers of bodyfat\n",
    "\n",
    "df_imputed[\"BFP\"] =495/(1.0324 - 0.19077*np.log10(df_imputed[\"ABDOMEN\"]-df_imputed[\"NECK\"]) + 0.15456*np.log10(df_imputed[\"HEIGHT\"]*2.54))-450\n",
    "\n",
    "\n",
    "df_selected = pd.DataFrame(df_imputed[['BFP', 'BODYFAT']])\n",
    "\n",
    "print(df_selected)"
   ]
  },
  {
   "cell_type": "code",
   "execution_count": null,
   "metadata": {},
   "outputs": [],
   "source": [
    "# visualize the difference between values from dataset and from the adopted model\n",
    "\n",
    "plt.scatter(df_imputed['BODYFAT'], df_imputed['BFP'], color='blue', label='BFP vs BODYFAT')\n",
    "\n",
    "plt.title('Comparison of BFP and BODYFAT')\n",
    "plt.xlabel('BODYFAT')\n",
    "plt.ylabel('BFP')\n",
    "\n",
    "\n",
    "plt.plot([df_imputed['BODYFAT'].min(), df_imputed['BODYFAT'].max()], \n",
    "         [df_imputed['BODYFAT'].min(), df_imputed['BODYFAT'].max()], \n",
    "         color='red', linestyle='--', label='Ideal line (y=x)')\n",
    "\n",
    "plt.legend()\n",
    "\n",
    "plt.show()"
   ]
  },
  {
   "cell_type": "code",
   "execution_count": null,
   "metadata": {},
   "outputs": [],
   "source": [
    "# replace the outliers of Bodyfat with results from the adopted model\n",
    "df_selected['Residual'] = df_selected['BFP'] - df_selected['BODYFAT']\n",
    "\n",
    "\n",
    "df_selected['Abs_Residual'] = np.abs(df_selected['Residual']/df_selected['BFP'])\n",
    "\n",
    "\n",
    "df_sorted_by_residual = df_selected.sort_values(by='Abs_Residual', ascending=False)\n",
    "\n",
    "\n",
    "\n",
    "high_residual_ids = df_sorted_by_residual[df_sorted_by_residual['Abs_Residual'] > 0.5].index\n",
    "\n",
    "\n",
    "df_imputed.loc[high_residual_ids, 'BODYFAT'] = df_imputed.loc[high_residual_ids, 'BFP']\n",
    "\n",
    "df_imputed = df_imputed.drop(columns=[\"BFP\"])\n",
    "\n",
    "df_imputed.describe()"
   ]
  },
  {
   "cell_type": "markdown",
   "metadata": {},
   "source": [
    "### Scale"
   ]
  },
  {
   "cell_type": "code",
   "execution_count": 243,
   "metadata": {},
   "outputs": [],
   "source": [
    "# use Minmax method to scale the data and finish the preprocessing work\n",
    "scaler = MinMaxScaler()\n",
    "scaler.fit(df_imputed)\n",
    "df_imputed_scaled = pd.DataFrame(scaler.transform(df_imputed),columns=df_imputed.columns)"
   ]
  },
  {
   "cell_type": "markdown",
   "metadata": {},
   "source": [
    "## MLR method"
   ]
  },
  {
   "cell_type": "markdown",
   "metadata": {},
   "source": [
    "### Feature Selection"
   ]
  },
  {
   "cell_type": "code",
   "execution_count": 244,
   "metadata": {},
   "outputs": [],
   "source": [
    "# forward selection\n",
    "\n",
    "def forward_selection(X, y, significance_level=0.05):\n",
    "    initial_features = []\n",
    "    remaining_features = list(X.columns)\n",
    "    while remaining_features:\n",
    "        p_values = pd.Series(index=remaining_features, dtype=float)\n",
    "        for feature in remaining_features:\n",
    "            model = sm.OLS(y, sm.add_constant(X[initial_features + [feature]])).fit()\n",
    "            p_values[feature] = model.pvalues[feature]\n",
    "        min_p_value = p_values.min()\n",
    "        if min_p_value < significance_level:\n",
    "            best_feature = p_values.idxmin()\n",
    "            initial_features.append(best_feature)\n",
    "            remaining_features.remove(best_feature)\n",
    "        else:\n",
    "            break\n",
    "    return initial_features"
   ]
  },
  {
   "cell_type": "code",
   "execution_count": 245,
   "metadata": {},
   "outputs": [],
   "source": [
    "# backward selection\n",
    "def backward_selection(X, y, significance_level=0.05):\n",
    "    features = list(X.columns) \n",
    "    while len(features) > 0:\n",
    "        model = sm.OLS(y, X[features]).fit()\n",
    "        p_values = model.pvalues\n",
    "        max_p_value = p_values.max()\n",
    "        if max_p_value > significance_level:\n",
    "            excluded_feature = p_values.idxmax()\n",
    "            print(f\"Removing {excluded_feature} with p-value {max_p_value}\")\n",
    "            features.remove(excluded_feature)\n",
    "        else:\n",
    "            break\n",
    "    return features"
   ]
  },
  {
   "cell_type": "code",
   "execution_count": 246,
   "metadata": {},
   "outputs": [],
   "source": [
    "# stepwise selection\n",
    "def stepwise_selection(X, y, \n",
    "                       initial_list=[], \n",
    "                       threshold_in=0.05, \n",
    "                       threshold_out = 0.05, \n",
    "                       verbose=True):\n",
    "    \"\"\" Perform a forward-backward feature selection \n",
    "    based on p-value from statsmodels.api.OLS\n",
    "    \"\"\"\n",
    "    included = list(initial_list)\n",
    "    while True:\n",
    "        changed=False\n",
    "        # forward step\n",
    "        excluded = list(set(X.columns)-set(included))\n",
    "        new_pval = pd.Series(index=excluded)\n",
    "        for new_column in excluded:\n",
    "            model = sm.OLS(y, sm.add_constant(pd.DataFrame(X[included+[new_column]]))).fit()\n",
    "            new_pval[new_column] = model.pvalues[new_column]\n",
    "        best_pval = new_pval.min()\n",
    "        if best_pval < threshold_in:\n",
    "            best_feature = new_pval.idxmin()\n",
    "            included.append(best_feature)\n",
    "            changed=True\n",
    "            if verbose:\n",
    "                print('Add  {:30} with p-value {:.6}'.format(best_feature, best_pval))\n",
    "\n",
    "        # backward step\n",
    "        model = sm.OLS(y, sm.add_constant(pd.DataFrame(X[included]))).fit()\n",
    "        # use all coefs except intercept\n",
    "        pvalues = model.pvalues.iloc[1:]\n",
    "        worst_pval = pvalues.max() \n",
    "        if worst_pval > threshold_out:\n",
    "            changed=True\n",
    "            worst_feature = pvalues.idxmax()\n",
    "            included.remove(worst_feature)\n",
    "            if verbose:\n",
    "                print('Drop {:30} with p-value {:.6}'.format(worst_feature, worst_pval))\n",
    "        if not changed:\n",
    "            break\n",
    "    return included"
   ]
  },
  {
   "cell_type": "code",
   "execution_count": 247,
   "metadata": {},
   "outputs": [],
   "source": [
    "X_imputed_scaled = df_imputed_scaled.drop(columns=[\"IDNO\",\"BODYFAT\",\"DENSITY\"])\n",
    "y = df_imputed[\"BODYFAT\"]"
   ]
  },
  {
   "cell_type": "code",
   "execution_count": null,
   "metadata": {},
   "outputs": [],
   "source": [
    "# results of forward selection\n",
    "result_forward = forward_selection(X_imputed_scaled , y)\n",
    "result_forward"
   ]
  },
  {
   "cell_type": "code",
   "execution_count": null,
   "metadata": {},
   "outputs": [],
   "source": [
    "# results of backward selection\n",
    "result_backward = backward_selection(X_imputed_scaled , y)\n",
    "result_backward"
   ]
  },
  {
   "cell_type": "code",
   "execution_count": null,
   "metadata": {},
   "outputs": [],
   "source": [
    "# results of stepwise selection\n",
    "output_stepwise = stepwise_selection(X_imputed_scaled , y)\n",
    "result_stepwise = output_stepwise\n",
    "result_stepwise"
   ]
  },
  {
   "cell_type": "markdown",
   "metadata": {},
   "source": [
    "### Visualization and cross-validation"
   ]
  },
  {
   "cell_type": "code",
   "execution_count": null,
   "metadata": {},
   "outputs": [],
   "source": [
    "# visualize the result of forward selection\n",
    "\n",
    "X_forward = X_imputed_scaled.loc[:, result_forward]\n",
    "X_backward = X_imputed_scaled.loc[:, result_backward]\n",
    "X_stepwise = X_imputed_scaled.loc[:, result_stepwise] \n",
    "\n",
    "model = LinearRegression()\n",
    "\n",
    "model.fit(X_forward,y)\n",
    "\n",
    "y_pred = model.predict(X_forward)\n",
    "\n",
    "\n",
    "plt.figure(figsize=(10, 6))\n",
    "plt.scatter(y, y_pred, color='blue', label='Predicted vs Actual')\n",
    "plt.plot([y.min(), y.max()], [y.min(), y.max()], color='red', lw=2, label='Ideal fit')\n",
    "plt.xlabel('Actual(%)')\n",
    "plt.ylabel('Predicted(%)')\n",
    "plt.title('Actual vs Predicted(MLR Forward Selection)')\n",
    "plt.legend()\n",
    "\n",
    "plt.show()\n",
    "\n",
    "# show model MSE\n",
    "print(\"Mean Squared Error:\", mean_squared_error(y, y_pred))"
   ]
  },
  {
   "cell_type": "code",
   "execution_count": null,
   "metadata": {},
   "outputs": [],
   "source": [
    "# visualize the cross validation result of forward selection\n",
    "cv_scores = cross_val_score(model, X_forward, y, cv=5, scoring='neg_mean_squared_error')\n",
    "\n",
    "cv_mse_scores = -cv_scores\n",
    "\n",
    "print(\"Cross-Validation MSE for each fold:\", cv_mse_scores)\n",
    "\n",
    "print(\"Average MSE from Cross-Validation:\", cv_mse_scores.mean())"
   ]
  },
  {
   "cell_type": "code",
   "execution_count": null,
   "metadata": {},
   "outputs": [],
   "source": [
    "# residual check of forward selection\n",
    "residuals = y - y_pred\n",
    "\n",
    "plt.scatter(y_pred, residuals)\n",
    "plt.axhline(0, color='red', linestyle='--')\n",
    "plt.title('Residuals vs Predicted Values')\n",
    "plt.xlabel('Predicted Values')\n",
    "plt.ylabel('Residuals')\n",
    "plt.show()"
   ]
  },
  {
   "cell_type": "code",
   "execution_count": null,
   "metadata": {},
   "outputs": [],
   "source": [
    "# visualize the result of backward selection\n",
    "\n",
    "\n",
    "model = LinearRegression()\n",
    "\n",
    "model.fit(X_backward,y)\n",
    "\n",
    "y_pred = model.predict(X_backward)\n",
    "\n",
    "\n",
    "plt.figure(figsize=(10, 6))\n",
    "plt.scatter(y, y_pred, color='blue', label='Predicted vs Actual')\n",
    "plt.plot([y.min(), y.max()], [y.min(), y.max()], color='red', lw=2, label='Ideal fit')\n",
    "plt.xlabel('Actual(%)')\n",
    "plt.ylabel('Predicted(%)')\n",
    "plt.title('Actual vs Predicted(MLR Backward Selection)')\n",
    "plt.legend()\n",
    "\n",
    "plt.show()\n",
    "\n",
    "# show the mse of backward selection model\n",
    "print(\"Mean Squared Error:\", mean_squared_error(y, y_pred))"
   ]
  },
  {
   "cell_type": "code",
   "execution_count": null,
   "metadata": {},
   "outputs": [],
   "source": [
    "# show the cross validation result of backward selection\n",
    "cv_scores = cross_val_score(model, X_backward, y, cv=5, scoring='neg_mean_squared_error')\n",
    "\n",
    "cv_mse_scores = -cv_scores\n",
    "\n",
    "print(\"Cross-Validation MSE for each fold:\", cv_mse_scores)\n",
    "\n",
    "print(\"Average MSE from Cross-Validation:\", cv_mse_scores.mean())"
   ]
  },
  {
   "cell_type": "code",
   "execution_count": null,
   "metadata": {},
   "outputs": [],
   "source": [
    "# check the residuals of backward selection\n",
    "residuals = y - y_pred\n",
    "\n",
    "plt.scatter(y_pred, residuals)\n",
    "plt.axhline(0, color='red', linestyle='--')\n",
    "plt.title('Residuals vs Predicted Values')\n",
    "plt.xlabel('Predicted Values')\n",
    "plt.ylabel('Residuals')\n",
    "plt.show()"
   ]
  },
  {
   "cell_type": "code",
   "execution_count": null,
   "metadata": {},
   "outputs": [],
   "source": [
    "# visualize the result of stepwise selection\n",
    "\n",
    "model = LinearRegression()\n",
    "\n",
    "model.fit(X_stepwise,y)\n",
    "\n",
    "y_pred = model.predict(X_stepwise)\n",
    "\n",
    "plt.figure(figsize=(10, 6))\n",
    "plt.scatter(y, y_pred, color='blue', label='Predicted vs Actual')\n",
    "plt.plot([y.min(), y.max()], [y.min(), y.max()], color='red', lw=2, label='Ideal fit')\n",
    "plt.xlabel('Actual(%)')\n",
    "plt.ylabel('Predicted(%)')\n",
    "plt.title('Actual vs Predicted(MLR Stepwise Selection)')\n",
    "plt.legend()\n",
    "\n",
    "plt.show()\n",
    "\n",
    "\n",
    "print(\"Mean Squared Error:\", mean_squared_error(y, y_pred))"
   ]
  },
  {
   "cell_type": "code",
   "execution_count": null,
   "metadata": {},
   "outputs": [],
   "source": [
    "# show the cross validation result of stepwise selection\n",
    "\n",
    "cv_scores = cross_val_score(model, X_stepwise, y, cv=5, scoring='neg_mean_squared_error')\n",
    "\n",
    "cv_mse_scores = -cv_scores\n",
    "\n",
    "print(\"Cross-Validation MSE for each fold:\", cv_mse_scores)\n",
    "\n",
    "print(\"Average MSE from Cross-Validation:\", cv_mse_scores.mean())"
   ]
  },
  {
   "cell_type": "code",
   "execution_count": null,
   "metadata": {},
   "outputs": [],
   "source": [
    "# check the residuals of stepwise selection\n",
    "residuals = y - y_pred\n",
    "\n",
    "plt.scatter(y_pred, residuals)\n",
    "plt.axhline(0, color='red', linestyle='--')\n",
    "plt.title('Residuals vs Predicted Values')\n",
    "plt.xlabel('Predicted Values')\n",
    "plt.ylabel('Residuals')\n",
    "plt.show()"
   ]
  },
  {
   "cell_type": "code",
   "execution_count": null,
   "metadata": {},
   "outputs": [],
   "source": [
    "# model summary of forward selection\n",
    "\n",
    "X_with_const = sm.add_constant(X_forward)  \n",
    "ols_model = sm.OLS(y, X_with_const)\n",
    "results = ols_model.fit()\n",
    "\n",
    "\n",
    "print(\"forward:\",results.summary())"
   ]
  },
  {
   "cell_type": "code",
   "execution_count": null,
   "metadata": {},
   "outputs": [],
   "source": [
    "# model summary of backward selection\n",
    "\n",
    "\n",
    "X_with_const = sm.add_constant(X_backward)  \n",
    "ols_model = sm.OLS(y, X_with_const)\n",
    "results = ols_model.fit()\n",
    "\n",
    "\n",
    "print(\"backward:\",results.summary())"
   ]
  },
  {
   "cell_type": "markdown",
   "metadata": {},
   "source": [
    "## Decision Tree"
   ]
  },
  {
   "cell_type": "code",
   "execution_count": 262,
   "metadata": {},
   "outputs": [],
   "source": [
    "# build a decision tree using all the features\n",
    "\n",
    "X = df_imputed_scaled.drop(columns=[\"IDNO\",\"BODYFAT\",\"DENSITY\"])\n",
    "y = df_imputed[\"BODYFAT\"]\n",
    "\n",
    "tree_model = DecisionTreeRegressor(max_depth=None)\n",
    "tree_model.fit(X, y)\n",
    "\n",
    "importances = tree_model.feature_importances_"
   ]
  },
  {
   "cell_type": "code",
   "execution_count": null,
   "metadata": {},
   "outputs": [],
   "source": [
    "# list the feature importance \n",
    "\n",
    "feature_names = X.columns if isinstance(X, pd.DataFrame) else [f\"Feature {i}\" for i in range(X.shape[1])]\n",
    "\n",
    "feature_importance_dict = {feature: importance for feature, importance in zip(feature_names, importances)}\n",
    "\n",
    "\n",
    "sorted_feature_importance = dict(sorted(feature_importance_dict.items(), key=lambda item: item[1], reverse=True))\n",
    "\n",
    "\n",
    "print(\"Sorted feature importance:\")\n",
    "for feature, importance in sorted_feature_importance.items():\n",
    "    print(f\"{feature}: {importance}\")"
   ]
  },
  {
   "cell_type": "code",
   "execution_count": null,
   "metadata": {},
   "outputs": [],
   "source": [
    "# choose the top 6 features\n",
    "\n",
    "sorted_feature_names = [feature for feature, importance in sorted_feature_importance.items()][:6]\n",
    "\n",
    "sorted_feature_names"
   ]
  },
  {
   "cell_type": "code",
   "execution_count": null,
   "metadata": {},
   "outputs": [],
   "source": [
    "# use the selected features to build another decision tree model\n",
    "\n",
    "X_tree_selected = X[sorted_feature_names]\n",
    "\n",
    "tree_model = DecisionTreeRegressor(max_depth=5)\n",
    "tree_model.fit(X_tree_selected, y)\n",
    "\n",
    "y_pred = tree_model.predict(X_tree_selected)\n",
    "\n",
    "\n",
    "plt.figure(figsize=(10, 6))\n",
    "plt.scatter(y, y_pred, color='blue', label='Predicted vs Actual')\n",
    "\n",
    "plt.plot([y.min(), y.max()], [y.min(), y.max()], color='red', lw=2, label='Ideal fit')\n",
    "\n",
    "plt.xlabel('Actual(%)')\n",
    "plt.ylabel('Predicted(%)')\n",
    "plt.title('Actual vs Predicted (Decision Tree Regressor)')\n",
    "plt.legend()\n",
    "\n",
    "plt.show()\n",
    "\n",
    "# show the mse of this decision tree model\n",
    "print(\"Mean Squared Error:\", mean_squared_error(y, y_pred))"
   ]
  },
  {
   "cell_type": "code",
   "execution_count": null,
   "metadata": {},
   "outputs": [],
   "source": [
    "# cross validation of this decision tree model\n",
    "\n",
    "cv_scores = cross_val_score(tree_model, X_tree_selected, y, cv=5, scoring='neg_mean_squared_error')\n",
    "\n",
    "cv_mse_scores = -cv_scores\n",
    "\n",
    "print(\"Cross-Validation MSE for each fold:\", cv_mse_scores)\n",
    "\n",
    "print(\"Average MSE from Cross-Validation:\", cv_mse_scores.mean())"
   ]
  },
  {
   "cell_type": "code",
   "execution_count": null,
   "metadata": {},
   "outputs": [],
   "source": [
    "# check the reesiduals of decision tree model\n",
    "\n",
    "residuals = y - y_pred\n",
    "\n",
    "plt.scatter(y_pred, residuals)\n",
    "plt.axhline(0, color='red', linestyle='--')\n",
    "plt.title('Residuals vs Predicted Values')\n",
    "plt.xlabel('Predicted Values')\n",
    "plt.ylabel('Residuals')\n",
    "plt.show()"
   ]
  },
  {
   "cell_type": "code",
   "execution_count": null,
   "metadata": {},
   "outputs": [],
   "source": [
    "# print the stucture of decision tree model\n",
    "\n",
    "tree_rules = export_text(tree_model, feature_names=list(X_tree_selected.columns))\n",
    "print(tree_rules)"
   ]
  },
  {
   "cell_type": "markdown",
   "metadata": {},
   "source": [
    "## Radar plot of feature importance for each model"
   ]
  },
  {
   "cell_type": "code",
   "execution_count": 269,
   "metadata": {},
   "outputs": [],
   "source": [
    "# define the radar plot function\n",
    "\n",
    "def plot_radar(importances, feature_names,method):\n",
    "    N = len(feature_names)\n",
    "    angles = np.linspace(0, 2 * np.pi, N, endpoint=False).tolist()\n",
    "    importances = np.concatenate((importances,[importances[0]])) \n",
    "    angles += angles[:1]\n",
    "\n",
    "    fig, ax = plt.subplots(figsize=(6, 6), subplot_kw=dict(polar=True))\n",
    "    ax.fill(angles, importances, color='blue', alpha=0.25)\n",
    "    ax.plot(angles, importances, color='blue', linewidth=2)\n",
    "    ax.set_yticklabels([])\n",
    "    ax.set_xticks(angles[:-1])\n",
    "    ax.set_xticklabels(feature_names)\n",
    "\n",
    "    plt.title(f'Feature Importance Radar Chart for {method}')\n",
    "    plt.show()\n",
    "\n"
   ]
  },
  {
   "cell_type": "code",
   "execution_count": null,
   "metadata": {},
   "outputs": [],
   "source": [
    "# radar plot of decision tree\n",
    "tree_importance = tree_model.feature_importances_\n",
    "plot_radar(tree_importance, list(X_tree_selected.columns),\"Decision Tree\")\n"
   ]
  },
  {
   "cell_type": "code",
   "execution_count": null,
   "metadata": {},
   "outputs": [],
   "source": [
    "# radar plot of forward selection\n",
    "\n",
    "model_forward = LinearRegression()\n",
    "model_forward.fit(X_forward, y)\n",
    "\n",
    "\n",
    "X_forward_with_const = sm.add_constant(X_forward)\n",
    "forward_sm = sm.OLS(y, X_forward_with_const).fit()\n",
    "\n",
    "forward_pvalus = forward_sm.pvalues\n",
    "\n",
    "feature_importance = -np.log(forward_pvalus)\n",
    "\n",
    "\n",
    "feature_importance = feature_importance.iloc[1:] \n",
    "feature_names = X_forward.columns  \n",
    "\n",
    "\n",
    "plot_radar(feature_importance, feature_names, \"P-value based Importance for Forward\")\n",
    "\n"
   ]
  },
  {
   "cell_type": "code",
   "execution_count": null,
   "metadata": {},
   "outputs": [],
   "source": [
    "# radar plot of backward selection\n",
    "\n",
    "model_backward = LinearRegression()\n",
    "model_backward.fit(X_backward, y)\n",
    "\n",
    "\n",
    "X_backward_with_const = sm.add_constant(X_backward)\n",
    "backward_sm = sm.OLS(y, X_backward_with_const).fit()\n",
    "\n",
    "backward_pvalus = backward_sm.pvalues\n",
    "\n",
    "feature_importance = -np.log(backward_pvalus)\n",
    "\n",
    "\n",
    "feature_importance = feature_importance.iloc[1:] \n",
    "feature_names = X_backward.columns  \n",
    "\n",
    "\n",
    "plot_radar(feature_importance, feature_names, \"P-value based Importance for Backward\")"
   ]
  },
  {
   "cell_type": "code",
   "execution_count": null,
   "metadata": {},
   "outputs": [],
   "source": [
    "# radar plot of stepwise selection\n",
    "\n",
    "model_stepwise = LinearRegression()\n",
    "model_stepwise.fit(X_stepwise, y)\n",
    "\n",
    "\n",
    "X_stepwise_with_const = sm.add_constant(X_stepwise)\n",
    "stepwise_sm = sm.OLS(y, X_stepwise_with_const).fit()\n",
    "\n",
    "stepwise_pvalus = stepwise_sm.pvalues\n",
    "\n",
    "feature_importance = -np.log(stepwise_pvalus)\n",
    "\n",
    "\n",
    "feature_importance = feature_importance.iloc[1:] \n",
    "feature_names = X_stepwise.columns  \n",
    "\n",
    "\n",
    "plot_radar(feature_importance, feature_names, \"P-value based Importance for Stepwise\")\n"
   ]
  }
 ],
 "metadata": {
  "kernelspec": {
   "display_name": "scrna",
   "language": "python",
   "name": "python3"
  },
  "language_info": {
   "codemirror_mode": {
    "name": "ipython",
    "version": 3
   },
   "file_extension": ".py",
   "mimetype": "text/x-python",
   "name": "python",
   "nbconvert_exporter": "python",
   "pygments_lexer": "ipython3",
   "version": "3.11.9"
  },
  "orig_nbformat": 4
 },
 "nbformat": 4,
 "nbformat_minor": 2
}
